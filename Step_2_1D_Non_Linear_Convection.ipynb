{
  "nbformat": 4,
  "nbformat_minor": 0,
  "metadata": {
    "colab": {
      "name": "Step 2 - 1D Non-Linear Convection.ipynb",
      "provenance": [],
      "authorship_tag": "ABX9TyMSjkDGyvinVcR25VwlO02G",
      "include_colab_link": true
    },
    "kernelspec": {
      "name": "python3",
      "display_name": "Python 3"
    }
  },
  "cells": [
    {
      "cell_type": "markdown",
      "metadata": {
        "id": "view-in-github",
        "colab_type": "text"
      },
      "source": [
        "<a href=\"https://colab.research.google.com/github/Brendannigel/Navier-Stokes/blob/master/Step_2_1D_Non_Linear_Convection.ipynb\" target=\"_parent\"><img src=\"https://colab.research.google.com/assets/colab-badge.svg\" alt=\"Open In Colab\"/></a>"
      ]
    },
    {
      "cell_type": "code",
      "metadata": {
        "id": "PeRSYFQqMubC",
        "colab_type": "code",
        "colab": {}
      },
      "source": [
        "import numpy as np\n",
        "from matplotlib import pyplot\n",
        "%matplotlib inline\n",
        "\n",
        "nx = 41\n",
        "dx = 2/(nx-1)\n",
        "nt = 20 #the number of timesteps we want to calculate\n",
        "dt = 0.025 #the amountof time each timestep covers (delta t)\n",
        "\n",
        "u = np.ones(nx) #as in step one, we initialize u with every value equal to 1\n",
        "u[int(0.5/dx): int(1/dx+1)] = 2 #then set u = 2 betwen 0.5 and 1 as per out initial condition\n",
        "\n",
        "un = np.ones(nx) #initialize our placeholder array un, to hold the time-stepped solution"
      ],
      "execution_count": 0,
      "outputs": []
    },
    {
      "cell_type": "code",
      "metadata": {
        "id": "yLxKiGfwMwdq",
        "colab_type": "code",
        "colab": {
          "base_uri": "https://localhost:8080/",
          "height": 282
        },
        "outputId": "017c9af2-d870-4653-fce5-10fb4a3e95ae"
      },
      "source": [
        "for n in range(nt): #iterate through time\n",
        "    un = u.copy() #copy the exisiting values of u into un\n",
        "    for i in range (1, nx): ##now we'll iterate through the u array\n",
        "        u[i] = un[i] - un[i] * dt / dx * (un[i] - un[i-1]) ###this is the same equation as linear convection but c is\n",
        "                                                            ### replaced with un[i]\n",
        "        \n",
        "pyplot.plot(np.linspace(0,2,nx), u)"
      ],
      "execution_count": 2,
      "outputs": [
        {
          "output_type": "execute_result",
          "data": {
            "text/plain": [
              "[<matplotlib.lines.Line2D at 0x7f8cdb8f6d30>]"
            ]
          },
          "metadata": {
            "tags": []
          },
          "execution_count": 2
        },
        {
          "output_type": "display_data",
          "data": {
            "image/png": "[encoded data removed]",
            "text/plain": [
              "<Figure size 432x288 with 1 Axes>"
            ]
          },
          "metadata": {
            "tags": [],
            "needs_background": "light"
          }
        }
      ]
    },
    {
      "cell_type": "code",
      "metadata": {
        "id": "vnSCZu4sMzV3",
        "colab_type": "code",
        "colab": {}
      },
      "source": [
        ""
      ],
      "execution_count": 0,
      "outputs": []
    }
  ]
}